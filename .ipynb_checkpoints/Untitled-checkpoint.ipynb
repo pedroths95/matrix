{
 "cells": [
  {
   "cell_type": "code",
   "execution_count": 5,
   "metadata": {},
   "outputs": [],
   "source": [
    "import Exercicio_PedroTSodre as E"
   ]
  },
  {
   "cell_type": "code",
   "execution_count": 15,
   "metadata": {},
   "outputs": [
    {
     "name": "stdout",
     "output_type": "stream",
     "text": [
      "[3, 5, 1, 1, 4] [3, 5, 1, 1, 4]\n",
      "[3, 5, 1, 1, 4] [3, 2, 5, 0, 0]\n",
      "[3, 5, 1, 1, 4] [2, 3, 2, 1, 5]\n",
      "[3, 5, 1, 1, 4] [4, 2, 3, 5, 2]\n",
      "[3, 5, 1, 1, 4] [2, 0, 1, 0, 1]\n",
      "[3, 2, 5, 0, 0] [3, 5, 1, 1, 4]\n",
      "[3, 2, 5, 0, 0] [3, 2, 5, 0, 0]\n",
      "[3, 2, 5, 0, 0] [2, 3, 2, 1, 5]\n",
      "[3, 2, 5, 0, 0] [4, 2, 3, 5, 2]\n",
      "[3, 2, 5, 0, 0] [2, 0, 1, 0, 1]\n",
      "[2, 3, 2, 1, 5] [3, 5, 1, 1, 4]\n",
      "[2, 3, 2, 1, 5] [3, 2, 5, 0, 0]\n",
      "[2, 3, 2, 1, 5] [2, 3, 2, 1, 5]\n",
      "[2, 3, 2, 1, 5] [4, 2, 3, 5, 2]\n",
      "[2, 3, 2, 1, 5] [2, 0, 1, 0, 1]\n",
      "[4, 2, 3, 5, 2] [3, 5, 1, 1, 4]\n",
      "[4, 2, 3, 5, 2] [3, 2, 5, 0, 0]\n",
      "[4, 2, 3, 5, 2] [2, 3, 2, 1, 5]\n",
      "[4, 2, 3, 5, 2] [4, 2, 3, 5, 2]\n",
      "[4, 2, 3, 5, 2] [2, 0, 1, 0, 1]\n",
      "[2, 0, 1, 0, 1] [3, 5, 1, 1, 4]\n",
      "[2, 0, 1, 0, 1] [3, 2, 5, 0, 0]\n",
      "[2, 0, 1, 0, 1] [2, 3, 2, 1, 5]\n",
      "[2, 0, 1, 0, 1] [4, 2, 3, 5, 2]\n",
      "[2, 0, 1, 0, 1] [2, 0, 1, 0, 1]\n"
     ]
    }
   ],
   "source": [
    "X = E.make_square_matrix(5)\n",
    "X[0], X[0][1]\n",
    "for linha in X:\n",
    "    for coluna in X:\n",
    "        print(linha, coluna)"
   ]
  },
  {
   "cell_type": "code",
   "execution_count": 20,
   "metadata": {},
   "outputs": [
    {
     "name": "stdout",
     "output_type": "stream",
     "text": [
      "3974\n"
     ]
    }
   ],
   "source": [
    "Y =  E.determinant(E.make_square_matrix(6))\n",
    "print(Y)\n",
    "# t += t + t* ...\n",
    "#Y"
   ]
  },
  {
   "cell_type": "code",
   "execution_count": 62,
   "metadata": {},
   "outputs": [
    {
     "data": {
      "text/plain": [
       "[0, 4, 16, 36, 64]"
      ]
     },
     "execution_count": 62,
     "metadata": {},
     "output_type": "execute_result"
    }
   ],
   "source": [
    "class matrix():\n",
    "    # Aij i = linhas , j = colunas\n",
    "    # número inteiro\n",
    "    # A -> 5x5 que é quadrada\n",
    "    # B 4x5 não é quadrada\n",
    "    def __init__(self,i,j):\n",
    "        self.i = i\n",
    "        self.j = j\n",
    "    def get_indices(self):\n",
    "        print('O valor de i é', self.i,\n",
    "              '\\n', 'O valor de j é', self.j)\n",
    "    def make_matrix(self):\n",
    "        m = [[]]\n",
    "        for linha in range(self.i):\n",
    "            for coluna in range(self.j):\n",
    "                print(linha, coluna)\n",
    "                m.append(0)\n",
    "        return m\n",
    "    def print_matrix(self):\n",
    "        print(m)\n",
    "\n",
    "x = [a**2 for a in range(0,10) if a**2 % 2 == 0 ]\n",
    "x\n",
    "\n",
    "\n"
   ]
  },
  {
   "cell_type": "code",
   "execution_count": 63,
   "metadata": {},
   "outputs": [
    {
     "data": {
      "text/plain": [
       "[0, 4, 16, 36, 64]"
      ]
     },
     "execution_count": 63,
     "metadata": {},
     "output_type": "execute_result"
    }
   ],
   "source": [
    "x = [a**2 for a in range(0,10) if a**2 % 2 == 0]\n",
    "x"
   ]
  },
  {
   "cell_type": "code",
   "execution_count": null,
   "metadata": {},
   "outputs": [],
   "source": []
  }
 ],
 "metadata": {
  "kernelspec": {
   "display_name": "Python 3",
   "language": "python",
   "name": "python3"
  },
  "language_info": {
   "codemirror_mode": {
    "name": "ipython",
    "version": 3
   },
   "file_extension": ".py",
   "mimetype": "text/x-python",
   "name": "python",
   "nbconvert_exporter": "python",
   "pygments_lexer": "ipython3",
   "version": "3.7.4"
  }
 },
 "nbformat": 4,
 "nbformat_minor": 2
}
